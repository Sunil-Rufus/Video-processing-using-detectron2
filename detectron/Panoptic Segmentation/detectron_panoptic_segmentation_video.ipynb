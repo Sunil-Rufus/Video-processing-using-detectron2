{
  "nbformat": 4,
  "nbformat_minor": 0,
  "metadata": {
    "colab": {
      "name": "detectron_panoptic_segmentation_video.ipynb",
      "provenance": []
    },
    "kernelspec": {
      "name": "python3",
      "display_name": "Python 3"
    },
    "accelerator": "GPU"
  },
  "cells": [
    {
      "cell_type": "code",
      "metadata": {
        "id": "n9JYcoU7bprU",
        "colab_type": "code",
        "colab": {}
      },
      "source": [
        "!pip install -U torch==1.4+cu100 torchvision==0.5+cu100 -f https://download.pytorch.org/whl/torch_stable.html \n",
        "!pip install cython pyyaml==5.1\n",
        "!pip install -U 'git+https://github.com/cocodataset/cocoapi.git#subdirectory=PythonAPI'\n",
        "!pip install detectron2 -f https://dl.fbaipublicfiles.com/detectron2/wheels/cu100/index.html"
      ],
      "execution_count": null,
      "outputs": []
    },
    {
      "cell_type": "code",
      "metadata": {
        "id": "TmPLTluici3-",
        "colab_type": "code",
        "colab": {
          "base_uri": "https://localhost:8080/",
          "height": 34
        },
        "outputId": "6cb4b1a7-71fe-433b-cc1b-5bbd7c84829e"
      },
      "source": [
        "import detectron2\n",
        "from detectron2.utils.logger import setup_logger\n",
        "setup_logger()"
      ],
      "execution_count": 2,
      "outputs": [
        {
          "output_type": "execute_result",
          "data": {
            "text/plain": [
              "<Logger detectron2 (DEBUG)>"
            ]
          },
          "metadata": {
            "tags": []
          },
          "execution_count": 2
        }
      ]
    },
    {
      "cell_type": "code",
      "metadata": {
        "id": "BhnpQTMvclYb",
        "colab_type": "code",
        "colab": {}
      },
      "source": [
        "from detectron2 import model_zoo\n",
        "from detectron2.engine import DefaultPredictor\n",
        "from detectron2.config import get_cfg\n",
        "from detectron2.utils.video_visualizer import VideoVisualizer\n",
        "from detectron2.utils.visualizer import ColorMode, Visualizer\n",
        "from detectron2.data import MetadataCatalog"
      ],
      "execution_count": 3,
      "outputs": []
    },
    {
      "cell_type": "code",
      "metadata": {
        "id": "Sq7kKBxy7moV",
        "colab_type": "code",
        "colab": {}
      },
      "source": [
        "import time\n",
        "import numpy as np\n",
        "import cv2"
      ],
      "execution_count": 4,
      "outputs": []
    },
    {
      "cell_type": "code",
      "metadata": {
        "id": "130kcw-Rcxf4",
        "colab_type": "code",
        "colab": {}
      },
      "source": [
        "file_path = '/content/'\n",
        "file_name = 'running2.mp4'\n",
        "file_1 = file_name.split(\".\")\n",
        "print(file_1[1])\n",
        "file = file_path+file_name\n",
        "\n",
        "video = cv2.VideoCapture(file)\n",
        "width = int(video.get(cv2.CAP_PROP_FRAME_WIDTH))\n",
        "height = int(video.get(cv2.CAP_PROP_FRAME_HEIGHT))\n",
        "frames_per_second = video.get(cv2.CAP_PROP_FPS)\n",
        "num_frames = int(video.get(cv2.CAP_PROP_FRAME_COUNT))\n",
        "\n",
        "print(\"video width\", width)\n",
        "print(\"video_height\",height)\n",
        "print(\"frames per second\",frames_per_second)\n",
        "print(num_frames)"
      ],
      "execution_count": null,
      "outputs": []
    },
    {
      "cell_type": "code",
      "metadata": {
        "id": "en4KmHyMc9t9",
        "colab_type": "code",
        "colab": {}
      },
      "source": [
        "# Inference with a panoptic segmentation model\n",
        "cfg = get_cfg()\n",
        "cfg.merge_from_file(model_zoo.get_config_file(\"COCO-PanopticSegmentation/panoptic_fpn_R_101_3x.yaml\"))\n",
        "cfg.MODEL.WEIGHTS = model_zoo.get_checkpoint_url(\"COCO-PanopticSegmentation/panoptic_fpn_R_101_3x.yaml\")\n",
        "predictor = DefaultPredictor(cfg)\n"
      ],
      "execution_count": 29,
      "outputs": []
    },
    {
      "cell_type": "code",
      "metadata": {
        "id": "SOJM3p5_d5kY",
        "colab_type": "code",
        "colab": {}
      },
      "source": [
        "v = VideoVisualizer(MetadataCatalog.get(cfg.DATASETS.TRAIN[0]), ColorMode.IMAGE)"
      ],
      "execution_count": 30,
      "outputs": []
    },
    {
      "cell_type": "code",
      "metadata": {
        "id": "xkgi75Z5eNh5",
        "colab_type": "code",
        "colab": {}
      },
      "source": [
        "def video_process(video, total_frames):\n",
        "\n",
        "    frame_rate = 0\n",
        "    while True:\n",
        "        true, frame = video.read()\n",
        "        if not true:\n",
        "            break\n",
        "\n",
        "        frame = cv2.cvtColor(frame, cv2.COLOR_RGB2BGR)\n",
        "        pred_frame = predictor(frame)\n",
        "\n",
        "        panoptic_seg, segments_info = predictor(frame)[\"panoptic_seg\"]\n",
        "        output = v.draw_panoptic_seg_predictions(frame, panoptic_seg.to(\"cpu\"), segments_info)\n",
        "\n",
        "        output = cv2.cvtColor(output.get_image(), cv2.COLOR_RGB2BGR)\n",
        "\n",
        "        frame_rate += 1\n",
        "\n",
        "        yield output, frame_rate\n",
        "        \n",
        "        if frame_rate > total_frames:\n",
        "            break\n",
        "\n",
        "        "
      ],
      "execution_count": 31,
      "outputs": []
    },
    {
      "cell_type": "code",
      "metadata": {
        "id": "wBcuNUsnXRj_",
        "colab_type": "code",
        "colab": {}
      },
      "source": [
        "total_frames = 100 #adjust total_frames to your desired length if you want full length of video enter \"num_frames\"\n",
        "\n",
        "output_video_name = file_path+file_1[0]+\"_output_video\"+\".\"+file_1[1]\n",
        "output_image_name = file_path+file_1[0]+\"_output_image\"+\".png\"\n",
        "\n",
        "frame_to_write = 99 #choose which frame you would want to write as an image\n",
        "\n",
        "video_writer = cv2.VideoWriter(output_video_name, fourcc=cv2.VideoWriter_fourcc(*\"mp4v\"), fps=float(frames_per_second), frameSize=(width, height), isColor=True)\n",
        "\n",
        "for output,frame_rate in video_process(video, total_frames):\n",
        "    \n",
        "    print(\"Processing frame ===\",frame_rate,\"Out of \",total_frames)\n",
        "    if frame_rate == frame_to_write: #write the frame\n",
        "\n",
        "      print(\"Writing frame == \",frame_rate)\n",
        "      cv2.imwrite(output_image_name, output)\n",
        "\n",
        "    video_writer.write(output)\n",
        "\n",
        "\n",
        "print(\"Total frames = \",num_frames)\n",
        "print(\"Number of frames processed = \",total_frames)\n",
        "\n",
        "video.release()\n",
        "video_writer.release()\n",
        "cv2.destroyAllWindows()"
      ],
      "execution_count": null,
      "outputs": []
    },
    {
      "cell_type": "code",
      "metadata": {
        "id": "8yQ9kUxNzoF1",
        "colab_type": "code",
        "colab": {}
      },
      "source": [
        ""
      ],
      "execution_count": null,
      "outputs": []
    }
  ]
}